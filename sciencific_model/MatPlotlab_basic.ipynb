{
 "cells": [
  {
   "cell_type": "markdown",
   "metadata": {},
   "source": [
    "**Import most frequently used model numpy and pylab.  \n",
    "pylab is a interface for matplotlab, so usage and parameter just like matlab.  \n",
    "\"%matplotlib inline\" will configure that diagram show on this page.**"
   ]
  },
  {
   "cell_type": "code",
   "execution_count": null,
   "metadata": {
    "collapsed": false
   },
   "outputs": [],
   "source": [
    "import numpy as np\n",
    "import pylab as pl\n",
    "%matplotlib inline"
   ]
  },
  {
   "cell_type": "markdown",
   "metadata": {},
   "source": [
    "**First of all, let's do something sample.  \n",
    "Using default configuration to plot sin and cos diagram.**"
   ]
  },
  {
   "cell_type": "code",
   "execution_count": null,
   "metadata": {
    "collapsed": true
   },
   "outputs": [],
   "source": [
    "X = np.linspace(-np.pi, np.pi, 521, endpoint=True)\n",
    "S,C = np.sin(X), np.cos(X)"
   ]
  },
  {
   "cell_type": "markdown",
   "metadata": {},
   "source": [
    "**Next, there are something about configuration details.**  "
   ]
  },
  {
   "cell_type": "code",
   "execution_count": null,
   "metadata": {
    "collapsed": false
   },
   "outputs": [],
   "source": [
    "#Create a 8\\*6 diagram, dpi(Dots Per Inch) equal 80.\n",
    "pl.figure(figsize = (8,6), dpi = 80)\n",
    "#Create a new plot, this plot is a subplot in a figure.\n",
    "pl.subplot(1,1,1)\n",
    "#Plot cos curve with blue,'-' line style and 1 line width.\n",
    "pl.plot(X,C,color = 'blue', linewidth = 1, linestyle = '-')\n",
    "#Plot sin vurve with green, '-' line style and 1 line width.\n",
    "pl.plot(X,S,color = 'green', linestyle = '-', linewidth = 1)\n",
    "#Set limitation of vertical axis\n",
    "pl.ylim(-1.0, 1.0)\n",
    "#Set limitation of horizontal axis\n",
    "pl.xlim(-4.0,4.0)\n",
    "#Set vertical flag where you want to show.\n",
    "pl.xticks(np.linspace(-4,4,9, endpoint= True))\n",
    "#Set horizontal flag\n",
    "pl.yticks(np.linspace(-1,1,5, endpoint= True))\n",
    "#Save figure\n",
    "#pl.savefig('Test.jpg',dpi = 72)\n",
    "#Show figure, use show() function, there will be display on a independent window. If you want to show it on this page, show() does not necessary.\n",
    "pl.show()"
   ]
  },
  {
   "cell_type": "markdown",
   "metadata": {},
   "source": [
    "**Change some configuration on same plot.**"
   ]
  },
  {
   "cell_type": "code",
   "execution_count": null,
   "metadata": {
    "collapsed": false
   },
   "outputs": [],
   "source": [
    "pl.figure(figsize=(10,6),dpi = 80)\n",
    "\n",
    "pl.plot(X,C, color = 'green', linestyle = '-', linewidth = 2.5, label = 'cosine')\n",
    "pl.plot(X,S, color = '#FF0000', linewidth = 2.5, linestyle = '-', label = 'sine')\n",
    "\n",
    "#Reserve margin on border\n",
    "xmin, xmax = X.min(), X.max()\n",
    "ymin ,ymax = C.min(), C.max()\n",
    "\n",
    "dx = (xmax - xmin) * 0.2\n",
    "dy = (ymax - ymin) * 0.2\n",
    "\n",
    "pl.xlim(xmin - dx, xmax + dx)\n",
    "pl.ylim(ymin - dy, ymax + dy)\n",
    "\n",
    "#Set label on flag, if you have install Latex, use following commend.\n",
    "#xticks([-np.pi, -np.pi/2, 0, np.pi/2, np.pi],\n",
    "#       [r'$-\\pi$', r'$-\\pi/2$', r'$0$', r'$+\\pi/2$', r'$+\\pi$'])\n",
    "\n",
    "#yticks([-1, 0, +1],\n",
    "#       [r'$-1$', r'$0$', r'$+1$'])\n",
    "pl.xticks( [-np.pi, -np.pi/2, 0, np.pi/2, np.pi])\n",
    "pl.yticks([-1, 0, +1])\n",
    "\n",
    "#Move spine, if you want to set axis on the middle of figure, delete two spines.\n",
    "ax = pl.gca()\n",
    "#Set color none means disappear.\n",
    "ax.spines['right'].set_color('none')\n",
    "ax.spines['top'].set_color('none')\n",
    "#Set it on middle.\n",
    "ax.xaxis.set_ticks_position('bottom')\n",
    "ax.spines['bottom'].set_position(('data',0))\n",
    "ax.yaxis.set_ticks_position('left')\n",
    "ax.spines['left'].set_position(('data',0))\n",
    "\n",
    "#Add legend\n",
    "pl.legend(loc='upper left')\n",
    "\n",
    "#Add special instruction\n",
    "t = 2*np.pi/3\n",
    "pl.plot([t,t],[0,np.cos(t)], color ='blue', linewidth=2.5, linestyle=\"--\")      #line\n",
    "pl.scatter([t,],[np.cos(t),], 50, color ='blue')                                             #point\n",
    "\n",
    "pl.plot([t,t],[0,np.sin(t)], color ='red', linewidth=2.5, linestyle=\"--\")\n",
    "pl.scatter([t,],[np.sin(t),], 50, color ='red')\n"
   ]
  },
  {
   "cell_type": "markdown",
   "metadata": {},
   "source": [
    "**In ipython notebook, %%latex could make all latex in hole cell translate to correct expression.**"
   ]
  },
  {
   "cell_type": "code",
   "execution_count": null,
   "metadata": {
    "collapsed": false
   },
   "outputs": [],
   "source": [
    "%%latex\n",
    "$$c = \\sqrt{a^2 + b^2}$$\n",
    "$$F(k) = \\int_{-\\infty}^{\\infty} f(x) e^{2\\pi i k} dx$$"
   ]
  }
 ],
 "metadata": {
  "kernelspec": {
   "display_name": "Python 3",
   "language": "python",
   "name": "python3"
  },
  "language_info": {
   "codemirror_mode": {
    "name": "ipython",
    "version": 3
   },
   "file_extension": ".py",
   "mimetype": "text/x-python",
   "name": "python",
   "nbconvert_exporter": "python",
   "pygments_lexer": "ipython3",
   "version": "3.4.3"
  }
 },
 "nbformat": 4,
 "nbformat_minor": 0
}
